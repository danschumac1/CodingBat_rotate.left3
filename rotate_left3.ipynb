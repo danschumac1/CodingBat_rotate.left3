{
 "cells": [
  {
   "cell_type": "markdown",
   "id": "50281b0d",
   "metadata": {},
   "source": [
    "# List-1 > rotate_left3"
   ]
  },
  {
   "cell_type": "markdown",
   "id": "8629827c",
   "metadata": {},
   "source": [
    "Given an array of ints length 3, return an array with the elements \"rotated left\" so {1, 2, 3} yields {2, 3, 1}.\n",
    "\n",
    "\n",
    "rotate_left3([1, 2, 3]) → [2, 3, 1]\n",
    "\n",
    "rotate_left3([5, 11, 9]) → [11, 9, 5]\n",
    "\n",
    "rotate_left3([7, 0, 0]) → [0, 0, 7]"
   ]
  },
  {
   "cell_type": "code",
   "execution_count": null,
   "id": "a596f7d6",
   "metadata": {},
   "outputs": [],
   "source": [
    "def rotate_left3(nums):\n",
    "  rotated_list = []\n",
    "  for num in nums[1::]:\n",
    "    rotated_list.append(num)\n",
    "  rotated_list.append(nums[0])\n",
    "  return rotated_list\n"
   ]
  }
 ],
 "metadata": {
  "kernelspec": {
   "display_name": "Python 3 (ipykernel)",
   "language": "python",
   "name": "python3"
  },
  "language_info": {
   "codemirror_mode": {
    "name": "ipython",
    "version": 3
   },
   "file_extension": ".py",
   "mimetype": "text/x-python",
   "name": "python",
   "nbconvert_exporter": "python",
   "pygments_lexer": "ipython3",
   "version": "3.9.12"
  }
 },
 "nbformat": 4,
 "nbformat_minor": 5
}
